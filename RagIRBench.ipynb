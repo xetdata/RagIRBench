{
 "cells": [
  {
   "cell_type": "markdown",
   "id": "1edf2dff",
   "metadata": {},
   "source": [
    "# Why You (Likely) Do Not Need a Vector Database\n",
    "\n",
    "First, some quick background. The large language models (LLMs) like GPT, Llama, etc all take a limited amount of context (16k tokens). As such if I want to use an LLM to perform question answering on a very large collection of documents, we cannot simply stuff all the documents into the context. While one could fine-tune the LLM on the set of documents, this is difficult and costly if the set of documents change very quickly. For instance, I have fantasized about running Llama on my laptop so I can easily find emails, documents, etc, and I certainly do want to finetune an LLM for every email I receive.\n",
    "\n",
    "Retrieval Augmented Generation (RAG) has risen as a solution where you first try to find a small set of relevant documents that will help answer the question, and stuff just those documents into the context. A popular way to find these set of relevant documents is to compute a vector embedding of each document, which is a representation of the \"meaning\" of the document; documents which are similar semantically, should have vectors which are close. Then given a question, we  compute a vector embedding of the question and use nearest neighbor search to find the most relevant documents.\n",
    "\n",
    "Vector databases have risen in popularity lately as a means of storing and computing nearest neighbor on a large collection of documents. However, I argue that you almost never need a vector database.\n",
    "\n",
    "The task of finding a small set of documents that answers a given question is basically that of Information Retrieval, and very much predates vector databases. The most obvious forms of such systems which you interact with on a daily basis, are search engines (Google, Bing, Apache Lucene, Apple Spotlight, and many others). Of which highly scalable technologies such as reverse indexes are well known, highly available, and have been well developed over decades of research and engineering. Here, I will attempt to demonstrate why you probably do not need a vector database, and maybe some circumstances in which you might.\n",
    "\n",
    "# Dataset\n",
    "First, I need a benchmark dataset for document retrieval for the purposes of question answering. Here, we (mis)use the [SQuAD dataset](https://rajpurkar.github.io/SQuAD-explorer/).\n",
    "\n",
    "The SQuAD dataset comprises of a collection of paragraphs, and questions for each paragraph. Each question is meant to answered only by information found in the paragraph. \n",
    "For instance a paragraph might be:\n",
    "```\n",
    "Beyoncé Giselle Knowles was born in Houston, Texas, to Celestine Ann \"Tina\" Knowles (née Beyincé), a hairdresser and salon owner, and Mathew Knowles, a Xerox sales manager. Beyoncé\\'s name is a tribute to her mother\\'s maiden name. Beyoncé\\'s younger sister Solange is also a singer and a former member of Destiny\\'s Child. Mathew is African-American, while Tina is of Louisiana Creole descent (with African, Native American, French, Cajun, and distant Irish and Spanish ancestry). Through her mother, Beyoncé is a descendant of Acadian leader Joseph Broussard. She was raised in a Methodist household.\n",
    "```\n",
    "\n",
    "And a few questions for this paragraph are:\n",
    " - What race was Beyonce's father?\n",
    " - Beyoncé was raised in what religion?\n",
    " - What is the name of Beyoncé's younger sister?\n",
    " \n",
    "However, instead of answering the questions using the provided paragraph, we are going to *invert* the problem: given the question, find the paragraph containing the answer.\n",
    "\n",
    "The dataset is not perfect for this purpose. For instance, there are questions such as \"In what R&B group was she the lead singer?\" which assume that there is sufficient context to disambiguate the pronoun \"she\". However, the *vast* majority of questions do not have this issue, and so suffices for our experiment here."
   ]
  },
  {
   "cell_type": "code",
   "execution_count": 1,
   "id": "7bfa13d7",
   "metadata": {},
   "outputs": [],
   "source": [
    "# We use a convenient little jupyter extension to memoize the result of costly / slow computations \n",
    "# (like openai calls etc). This memo is stored together with the repo. and makes things a lot easier to run.\n",
    "# You do not have to selectively pickle and unpickle files and can always just run the notebook straight through.\n",
    "%reload_ext xetmemo_kernel_extension"
   ]
  },
  {
   "cell_type": "code",
   "execution_count": 2,
   "id": "cea69652",
   "metadata": {},
   "outputs": [],
   "source": [
    "import json\n",
    "import pandas as pd\n",
    "import pickle\n",
    "import openai\n",
    "import functools\n",
    "import numpy as np\n",
    "import concurrent.futures\n",
    "import time\n",
    "import matplotlib.pyplot as plt"
   ]
  },
  {
   "cell_type": "markdown",
   "id": "49e439c9",
   "metadata": {},
   "source": [
    "# Process SQuAD Dataset"
   ]
  },
  {
   "cell_type": "code",
   "execution_count": null,
   "id": "ebe559b1",
   "metadata": {},
   "outputs": [],
   "source": [
    "!git xet materialize data/squad2.json"
   ]
  },
  {
   "cell_type": "code",
   "execution_count": 3,
   "id": "4290fe5f",
   "metadata": {},
   "outputs": [],
   "source": [
    "d = pd.read_json('data/squad2.json')['data']\n",
    "all_paragraphs = [paragraph['context'] for ent in d for paragraph in ent['paragraphs']]"
   ]
  },
  {
   "cell_type": "code",
   "execution_count": 4,
   "id": "9ace2e7f",
   "metadata": {},
   "outputs": [],
   "source": [
    "# Ok. list comprehension is still possible but it gets a little obnoxious.\n",
    "all_qa = []\n",
    "paragraph_id = 0\n",
    "for ent in d:\n",
    "    for paragraph in ent['paragraphs']:\n",
    "        for qa in paragraph['qas']:\n",
    "            if len(qa['answers']) > 0 and qa['is_impossible'] == False:\n",
    "                all_qa.append((paragraph_id, qa['question'], qa['answers'][0]['text']))\n",
    "        paragraph_id += 1"
   ]
  },
  {
   "cell_type": "code",
   "execution_count": 5,
   "id": "9a08914e",
   "metadata": {},
   "outputs": [
    {
     "data": {
      "text/plain": [
       "86821"
      ]
     },
     "execution_count": 5,
     "metadata": {},
     "output_type": "execute_result"
    }
   ],
   "source": [
    "len(all_qa)"
   ]
  },
  {
   "cell_type": "code",
   "execution_count": 6,
   "id": "de9bf620",
   "metadata": {},
   "outputs": [
    {
     "data": {
      "text/plain": [
       "19035"
      ]
     },
     "execution_count": 6,
     "metadata": {},
     "output_type": "execute_result"
    }
   ],
   "source": [
    "len(all_paragraphs)"
   ]
  },
  {
   "cell_type": "markdown",
   "id": "3f737ac0",
   "metadata": {},
   "source": [
    "### There are ~ 87k questions and 19k paragraphs."
   ]
  },
  {
   "cell_type": "markdown",
   "id": "c77e58eb",
   "metadata": {},
   "source": [
    "### Some paragraph samples:"
   ]
  },
  {
   "cell_type": "code",
   "execution_count": 7,
   "id": "7c75ef62",
   "metadata": {},
   "outputs": [
    {
     "name": "stdout",
     "output_type": "stream",
     "text": [
      "Beyoncé Giselle Knowles was born in Houston, Texas, to Celestine Ann \"Tina\" Knowles (née Beyincé), a hairdresser and salon owner, and Mathew Knowles, a Xerox sales manager. Beyoncé's name is a tribute to her mother's maiden name. Beyoncé's younger sister Solange is also a singer and a former member of Destiny's Child. Mathew is African-American, while Tina is of Louisiana Creole descent (with African, Native American, French, Cajun, and distant Irish and Spanish ancestry). Through her mother, Beyoncé is a descendant of Acadian leader Joseph Broussard. She was raised in a Methodist household.\n",
      "Beyoncé's first solo recording was a feature on Jay Z's \"'03 Bonnie & Clyde\" that was released in October 2002, peaking at number four on the U.S. Billboard Hot 100 chart. Her first solo album Dangerously in Love was released on June 24, 2003, after Michelle Williams and Kelly Rowland had released their solo efforts. The album sold 317,000 copies in its first week, debuted atop the Billboard 200, and has since sold 11 million copies worldwide. The album's lead single, \"Crazy in Love\", featuring Jay Z, became Beyoncé's first number-one single as a solo artist in the US. The single \"Baby Boy\" also reached number one, and singles, \"Me, Myself and I\" and \"Naughty Girl\", both reached the top-five. The album earned Beyoncé a then record-tying five awards at the 46th Annual Grammy Awards; Best Contemporary R&B Album, Best Female R&B Vocal Performance for \"Dangerously in Love 2\", Best R&B Song and Best Rap/Sung Collaboration for \"Crazy in Love\", and Best R&B Performance by a Duo or Group with Vocals for \"The Closer I Get to You\" with Luther Vandross.\n"
     ]
    }
   ],
   "source": [
    "print(all_paragraphs[3])\n",
    "print(all_paragraphs[10])"
   ]
  },
  {
   "cell_type": "markdown",
   "id": "5cf9fe05",
   "metadata": {},
   "source": [
    "### Some question samples:"
   ]
  },
  {
   "cell_type": "code",
   "execution_count": 8,
   "id": "88193838",
   "metadata": {},
   "outputs": [
    {
     "name": "stdout",
     "output_type": "stream",
     "text": [
      "[(3, 'Where did Beyonce get her name from?', \"her mother's maiden name\"), (3, \"What race was Beyonce's father?\", 'African-American')]\n",
      "[(10, \"Beyonce's first solo album in the U.S. with what artist in the lead single?\", 'Jay Z'), (10, 'What solo album did Beyonce release in 2003?', 'Dangerously in Love')]\n"
     ]
    }
   ],
   "source": [
    "print(all_qa[40:42])\n",
    "print(all_qa[130:132])"
   ]
  },
  {
   "cell_type": "markdown",
   "id": "c3e71a64",
   "metadata": {},
   "source": [
    "# Open AI RAG QA Example\n",
    "Just to give a quick example of how RAG might be used on this dataset, we build a simple question answering agent which answers a given quesion using a context."
   ]
  },
  {
   "cell_type": "code",
   "execution_count": 9,
   "id": "f2c6be7c",
   "metadata": {},
   "outputs": [],
   "source": [
    "client = openai.OpenAI(max_retries=5,timeout=10)"
   ]
  },
  {
   "cell_type": "code",
   "execution_count": 10,
   "id": "733e2691",
   "metadata": {},
   "outputs": [],
   "source": [
    "def question_answerer(client, question, context):\n",
    "    system_prompt = \"You are an assistant for question-answering tasks. Use the provided pieces of retrieved context to answer the question. If you don't know the answer, just say that you don't know. Provide just the answer in as few words as possible. Do not use complete sentences.\"\n",
    "    user_prompt = f\"Question: {question} \\nContext: {context} \\nAnswer:\"\n",
    "    response = client.chat.completions.create(\n",
    "        messages=[\n",
    "            {\n",
    "                \"role\": \"system\",\n",
    "                \"content\": system_prompt,\n",
    "            },\n",
    "            {\n",
    "                \"role\": \"user\",\n",
    "                \"content\": user_prompt,\n",
    "            }\n",
    "        ],\n",
    "        model=\"gpt-3.5-turbo\",\n",
    "        temperature=0.0,\n",
    "    )\n",
    "    response = response.choices[0].message.content\n",
    "    return response"
   ]
  },
  {
   "cell_type": "markdown",
   "id": "bce36943",
   "metadata": {},
   "source": [
    "This is the first question answer pair we have in the dataset:"
   ]
  },
  {
   "cell_type": "code",
   "execution_count": 11,
   "id": "7667d34c",
   "metadata": {},
   "outputs": [
    {
     "name": "stdout",
     "output_type": "stream",
     "text": [
      "Context:  Beyoncé Giselle Knowles-Carter (/biːˈjɒnseɪ/ bee-YON-say) (born September 4, 1981) is an American singer, songwriter, record producer and actress. Born and raised in Houston, Texas, she performed in various singing and dancing competitions as a child, and rose to fame in the late 1990s as lead singer of R&B girl-group Destiny's Child. Managed by her father, Mathew Knowles, the group became one of the world's best-selling girl groups of all time. Their hiatus saw the release of Beyoncé's debut album, Dangerously in Love (2003), which established her as a solo artist worldwide, earned five Grammy Awards and featured the Billboard Hot 100 number-one singles \"Crazy in Love\" and \"Baby Boy\".\n",
      "Question:  When did Beyonce start becoming popular?\n",
      "Correct Answer:  in the late 1990s\n"
     ]
    }
   ],
   "source": [
    "para_id, question, answer = all_qa[0]\n",
    "print(\"Context: \", all_paragraphs[para_id])\n",
    "print(\"Question: \", question)\n",
    "print(\"Correct Answer: \", answer)"
   ]
  },
  {
   "cell_type": "markdown",
   "id": "aae1b492",
   "metadata": {},
   "source": [
    "And here is the response from OpenAI. It seems to work pretty well!"
   ]
  },
  {
   "cell_type": "code",
   "execution_count": 12,
   "id": "46cfc315",
   "metadata": {},
   "outputs": [
    {
     "name": "stdout",
     "output_type": "stream",
     "text": [
      "Late 1990s\n"
     ]
    }
   ],
   "source": [
    "response = question_answerer(client, question, all_paragraphs[para_id])\n",
    "print(response)"
   ]
  },
  {
   "cell_type": "markdown",
   "id": "ecaa6f12",
   "metadata": {},
   "source": [
    "However, how do we tell that \"in the late 1990s\" is the same answer and \"Late 1990s\"? There are some heuristics like BLEU which can be used. However,a lot of careful normalization is needed. For instance how do we deal with different ways of expressing numbers such as \"10\" vs \"ten\"? \"1990s\" vs \"90s\"? \"1,200\" vs \"1200\"? Also the answers in the dataset are  pretty short, so a threshold can be quite difficult to define. \n",
    "\n",
    "So how do we evaluate? Use an LLM to evaluate the answers too!"
   ]
  },
  {
   "cell_type": "markdown",
   "id": "f2d6194d",
   "metadata": {},
   "source": [
    "## Using an LLM to compare answers"
   ]
  },
  {
   "cell_type": "markdown",
   "id": "983f29df",
   "metadata": {},
   "source": [
    "It has been shown in many domains that an LLMs can actually match human performance in evaluating answers. And the intuition behind this is that it is easier to evaluate than it create. So here we use an LLM to compare two answers to a question. We are simply asking the LLM if the answers mean the same thing. And it seems to work quite nicely for our purposes. Of course, for a real application, we would actually like to evaluate this evaluator against a real dataset, but we are just doing a quick and dirty experiment here. So this will do."
   ]
  },
  {
   "cell_type": "code",
   "execution_count": 13,
   "id": "c1ca25e8",
   "metadata": {},
   "outputs": [],
   "source": [
    "def is_same(client, question, a1, a2):\n",
    "    system_prompt = \"You are an assistant for scoring answers. Two answers to a hypothetical question are provided. Say 'Yes' if both answers have the same meaning, and 'No' otherwise.\"\n",
    "    user_prompt = f\"Question: {question} \\Answer 1: {a1} \\nAnswer 2: {a2}\"\n",
    "    response = client.chat.completions.create(\n",
    "        messages=[\n",
    "            {\n",
    "                \"role\": \"system\",\n",
    "                \"content\": system_prompt,\n",
    "            },\n",
    "            {\n",
    "                \"role\": \"user\",\n",
    "                \"content\": user_prompt,\n",
    "            }\n",
    "        ],\n",
    "        model=\"gpt-3.5-turbo\",\n",
    "        temperature=0.0\n",
    "    )\n",
    "    response = response.choices[0].message.content == 'Yes'\n",
    "    return response\n",
    "    "
   ]
  },
  {
   "cell_type": "code",
   "execution_count": 14,
   "id": "8ec0ac74",
   "metadata": {},
   "outputs": [
    {
     "data": {
      "text/plain": [
       "'in the late 1990s'"
      ]
     },
     "execution_count": 14,
     "metadata": {},
     "output_type": "execute_result"
    }
   ],
   "source": [
    "answer"
   ]
  },
  {
   "cell_type": "code",
   "execution_count": 15,
   "id": "ffc2bbbf",
   "metadata": {},
   "outputs": [
    {
     "data": {
      "text/plain": [
       "True"
      ]
     },
     "execution_count": 15,
     "metadata": {},
     "output_type": "execute_result"
    }
   ],
   "source": [
    "is_same(client, question, answer, \"Late 1990s\")"
   ]
  },
  {
   "cell_type": "code",
   "execution_count": 16,
   "id": "c5ae3d6f",
   "metadata": {},
   "outputs": [
    {
     "data": {
      "text/plain": [
       "False"
      ]
     },
     "execution_count": 16,
     "metadata": {},
     "output_type": "execute_result"
    }
   ],
   "source": [
    "is_same(client, question, answer, \"Late 1980s\")"
   ]
  },
  {
   "cell_type": "markdown",
   "id": "429f852e",
   "metadata": {},
   "source": [
    "# Evaluate RAG\n",
    "We can now evalute the performance our RAG set up!. Just to keep things cheap and fast, we just run a 1% subset and take a look at the results!"
   ]
  },
  {
   "cell_type": "code",
   "execution_count": 17,
   "id": "6c40dfbf",
   "metadata": {},
   "outputs": [],
   "source": [
    "import numpy as np\n",
    "sub_qa = all_qa[0:len(all_qa):100]"
   ]
  },
  {
   "cell_type": "code",
   "execution_count": 18,
   "id": "34544389",
   "metadata": {},
   "outputs": [],
   "source": [
    "import concurrent.futures"
   ]
  },
  {
   "cell_type": "code",
   "execution_count": 19,
   "id": "ff273c71",
   "metadata": {},
   "outputs": [],
   "source": [
    "def do_work(client, question, true_answer, context):\n",
    "    response = question_answerer(client, question, context)\n",
    "    evaluation = is_same(client, question, true_answer, response)\n",
    "    return true_answer, response, evaluation"
   ]
  },
  {
   "cell_type": "code",
   "execution_count": 20,
   "id": "bf96f487",
   "metadata": {},
   "outputs": [
    {
     "name": "stdout",
     "output_type": "stream",
     "text": [
      "Loading from 77fd21df8c8e7900f005091fa11c661fd69c29ddcda6c2ef56266297123ae245.pickle\n"
     ]
    }
   ],
   "source": [
    "%%xetmemo input=sub_qa output=responses,evaluations\n",
    "responses = []\n",
    "evaluations = []\n",
    "ctr = 0\n",
    "for ent in sub_qa:\n",
    "    para_id, question, true_answer = ent\n",
    "    try:\n",
    "        true_answer, response, evaluation = do_work(client, question, true_answer, all_paragraphs[para_id])\n",
    "    except openai.RateLimitError:\n",
    "        time.sleep(10)\n",
    "        true_answer, response, evaluation = do_work(client, question, true_answer, all_paragraphs[para_id])\n",
    "    ctr += 1\n",
    "    print(f\"Correct Answer: {true_answer}, Response: {response}, Eval: {evaluation}. {ctr}/{len(sub_qa)}\")\n",
    "    responses.append(response)\n",
    "    evaluations.append(evaluation)"
   ]
  },
  {
   "cell_type": "code",
   "execution_count": 21,
   "id": "f08e2a4a",
   "metadata": {},
   "outputs": [
    {
     "name": "stdout",
     "output_type": "stream",
     "text": [
      "Loading from 558ea79e9db37829c5bd21fe76b8a9643ad70d8cf792e1a39df746e271953828.pickle\n"
     ]
    }
   ],
   "source": [
    "%%xetmemo input=sub_qa,responses,evaluations output=df\n",
    "df = pd.DataFrame()\n",
    "df['context'] = [all_paragraphs[i[0]] for i in sub_qa]\n",
    "df['question'] = [i[1] for i in sub_qa]\n",
    "df['answer'] = [i[2] for i in sub_qa]\n",
    "df['response'] = responses\n",
    "df['evaluations'] = evaluations"
   ]
  },
  {
   "cell_type": "code",
   "execution_count": 22,
   "id": "fa3c1e4f",
   "metadata": {
    "scrolled": false
   },
   "outputs": [
    {
     "data": {
      "text/html": [
       "<div>\n",
       "<style scoped>\n",
       "    .dataframe tbody tr th:only-of-type {\n",
       "        vertical-align: middle;\n",
       "    }\n",
       "\n",
       "    .dataframe tbody tr th {\n",
       "        vertical-align: top;\n",
       "    }\n",
       "\n",
       "    .dataframe thead th {\n",
       "        text-align: right;\n",
       "    }\n",
       "</style>\n",
       "<table border=\"1\" class=\"dataframe\">\n",
       "  <thead>\n",
       "    <tr style=\"text-align: right;\">\n",
       "      <th></th>\n",
       "      <th>context</th>\n",
       "      <th>question</th>\n",
       "      <th>answer</th>\n",
       "      <th>response</th>\n",
       "      <th>evaluations</th>\n",
       "    </tr>\n",
       "  </thead>\n",
       "  <tbody>\n",
       "    <tr>\n",
       "      <th>0</th>\n",
       "      <td>Beyoncé Giselle Knowles-Carter (/biːˈjɒnseɪ/ b...</td>\n",
       "      <td>When did Beyonce start becoming popular?</td>\n",
       "      <td>in the late 1990s</td>\n",
       "      <td>Late 1990s</td>\n",
       "      <td>True</td>\n",
       "    </tr>\n",
       "    <tr>\n",
       "      <th>1</th>\n",
       "      <td>The remaining band members recorded \"Independe...</td>\n",
       "      <td>How many weeks did their single \"Independent W...</td>\n",
       "      <td>eleven</td>\n",
       "      <td>11 weeks</td>\n",
       "      <td>True</td>\n",
       "    </tr>\n",
       "    <tr>\n",
       "      <th>2</th>\n",
       "      <td>At the 52nd Annual Grammy Awards, Beyoncé rece...</td>\n",
       "      <td>How many awards was Beyonce nominated for at t...</td>\n",
       "      <td>ten</td>\n",
       "      <td>Ten</td>\n",
       "      <td>True</td>\n",
       "    </tr>\n",
       "    <tr>\n",
       "      <th>3</th>\n",
       "      <td>At the 57th Annual Grammy Awards in February 2...</td>\n",
       "      <td>Which artist beat Beyonce out for Album of the...</td>\n",
       "      <td>Beck</td>\n",
       "      <td>Beck</td>\n",
       "      <td>True</td>\n",
       "    </tr>\n",
       "    <tr>\n",
       "      <th>4</th>\n",
       "      <td>Forbes magazine began reporting on Beyoncé's e...</td>\n",
       "      <td>In 2012 who placed Beyonce at 16 in the Celebr...</td>\n",
       "      <td>Forbes</td>\n",
       "      <td>Forbes</td>\n",
       "      <td>True</td>\n",
       "    </tr>\n",
       "    <tr>\n",
       "      <th>...</th>\n",
       "      <td>...</td>\n",
       "      <td>...</td>\n",
       "      <td>...</td>\n",
       "      <td>...</td>\n",
       "      <td>...</td>\n",
       "    </tr>\n",
       "    <tr>\n",
       "      <th>864</th>\n",
       "      <td>Each year, nearly $200 million in hunters' fed...</td>\n",
       "      <td>What does land has Federal Duck Stamp money he...</td>\n",
       "      <td>5,200,000 acres</td>\n",
       "      <td>National Wildlife Refuge System lands.</td>\n",
       "      <td>True</td>\n",
       "    </tr>\n",
       "    <tr>\n",
       "      <th>865</th>\n",
       "      <td>On 16 March 1934, President Franklin D. Roosev...</td>\n",
       "      <td>What act was signed in 1934?</td>\n",
       "      <td>Migratory Bird Hunting Stamp Act</td>\n",
       "      <td>Migratory Bird Hunting Stamp Act</td>\n",
       "      <td>True</td>\n",
       "    </tr>\n",
       "    <tr>\n",
       "      <th>866</th>\n",
       "      <td>Kathmandu is located in the northwestern part ...</td>\n",
       "      <td>What river is south of Kathmandu?</td>\n",
       "      <td>Bagmati</td>\n",
       "      <td>Bagmati</td>\n",
       "      <td>True</td>\n",
       "    </tr>\n",
       "    <tr>\n",
       "      <th>867</th>\n",
       "      <td>Swayambhu is a Buddhist stupa atop a hillock a...</td>\n",
       "      <td>In what part of Kathmandu is Swayambhu located?</td>\n",
       "      <td>northwestern</td>\n",
       "      <td>Northwestern part</td>\n",
       "      <td>True</td>\n",
       "    </tr>\n",
       "    <tr>\n",
       "      <th>868</th>\n",
       "      <td>Institute of Medicine, the central college of ...</td>\n",
       "      <td>What institution of tertiary education is know...</td>\n",
       "      <td>National Academy of Medical Sciences</td>\n",
       "      <td>National Academy of Medical Sciences</td>\n",
       "      <td>True</td>\n",
       "    </tr>\n",
       "  </tbody>\n",
       "</table>\n",
       "<p>869 rows × 5 columns</p>\n",
       "</div>"
      ],
      "text/plain": [
       "                                               context   \n",
       "0    Beyoncé Giselle Knowles-Carter (/biːˈjɒnseɪ/ b...  \\\n",
       "1    The remaining band members recorded \"Independe...   \n",
       "2    At the 52nd Annual Grammy Awards, Beyoncé rece...   \n",
       "3    At the 57th Annual Grammy Awards in February 2...   \n",
       "4    Forbes magazine began reporting on Beyoncé's e...   \n",
       "..                                                 ...   \n",
       "864  Each year, nearly $200 million in hunters' fed...   \n",
       "865  On 16 March 1934, President Franklin D. Roosev...   \n",
       "866  Kathmandu is located in the northwestern part ...   \n",
       "867  Swayambhu is a Buddhist stupa atop a hillock a...   \n",
       "868  Institute of Medicine, the central college of ...   \n",
       "\n",
       "                                              question   \n",
       "0             When did Beyonce start becoming popular?  \\\n",
       "1    How many weeks did their single \"Independent W...   \n",
       "2    How many awards was Beyonce nominated for at t...   \n",
       "3    Which artist beat Beyonce out for Album of the...   \n",
       "4    In 2012 who placed Beyonce at 16 in the Celebr...   \n",
       "..                                                 ...   \n",
       "864  What does land has Federal Duck Stamp money he...   \n",
       "865                       What act was signed in 1934?   \n",
       "866                  What river is south of Kathmandu?   \n",
       "867    In what part of Kathmandu is Swayambhu located?   \n",
       "868  What institution of tertiary education is know...   \n",
       "\n",
       "                                   answer   \n",
       "0                       in the late 1990s  \\\n",
       "1                                  eleven   \n",
       "2                                     ten   \n",
       "3                                    Beck   \n",
       "4                                  Forbes   \n",
       "..                                    ...   \n",
       "864                       5,200,000 acres   \n",
       "865      Migratory Bird Hunting Stamp Act   \n",
       "866                               Bagmati   \n",
       "867                          northwestern   \n",
       "868  National Academy of Medical Sciences   \n",
       "\n",
       "                                   response  evaluations  \n",
       "0                                Late 1990s         True  \n",
       "1                                  11 weeks         True  \n",
       "2                                       Ten         True  \n",
       "3                                      Beck         True  \n",
       "4                                    Forbes         True  \n",
       "..                                      ...          ...  \n",
       "864  National Wildlife Refuge System lands.         True  \n",
       "865        Migratory Bird Hunting Stamp Act         True  \n",
       "866                                 Bagmati         True  \n",
       "867                       Northwestern part         True  \n",
       "868    National Academy of Medical Sciences         True  \n",
       "\n",
       "[869 rows x 5 columns]"
      ]
     },
     "execution_count": 22,
     "metadata": {},
     "output_type": "execute_result"
    }
   ],
   "source": [
    "df"
   ]
  },
  {
   "cell_type": "code",
   "execution_count": 29,
   "id": "a0651c2c",
   "metadata": {},
   "outputs": [
    {
     "name": "stdout",
     "output_type": "stream",
     "text": [
      "81.58803222094362% accuracy\n"
     ]
    }
   ],
   "source": [
    "accuracy = df['evaluations'].sum() / len(df)\n",
    "print(f\"{accuracy*100}% accuracy\")"
   ]
  },
  {
   "cell_type": "markdown",
   "id": "5cb69d44",
   "metadata": {},
   "source": [
    "# Testing Retrieval\n",
    "Now to get the main topic at hand. Testing context retrieval on the SQuAD dataset. To do this is pretty straightforward: we compute a embedding for every document and question and run nearest neighbor. Note that we using *exact* nearest neighbor here as opposed to the approximate methods used by most vector databases."
   ]
  },
  {
   "cell_type": "code",
   "execution_count": 30,
   "id": "c02a61c0",
   "metadata": {},
   "outputs": [],
   "source": [
    "ctr = 0\n",
    "def embed_entry(text):\n",
    "    global ctr\n",
    "    while True:\n",
    "        try:\n",
    "            response = client.embeddings.create(input=text, model='text-embedding-ada-002', encoding_format='float')\n",
    "            ctr += 1\n",
    "            if ctr % 100 == 0:\n",
    "                print(ctr)\n",
    "        except openai.RateLimitError as e:\n",
    "            time.sleep(1)\n",
    "            continue\n",
    "        break\n",
    "    return response.data[0].embedding\n",
    "\n",
    "def generate_openai_embeddings(client, textlist):\n",
    "    with concurrent.futures.ThreadPoolExecutor(max_workers=16) as executor:\n",
    "        ret = list(executor.map(embed_entry, textlist))\n",
    "    return ret"
   ]
  },
  {
   "cell_type": "code",
   "execution_count": 24,
   "id": "71d9ac7b",
   "metadata": {},
   "outputs": [
    {
     "name": "stdout",
     "output_type": "stream",
     "text": [
      "Loading from 6f9fdedb188cbc14a74921efe44e51202f2878fd483cc3648fa869888fd39322.pickle\n"
     ]
    }
   ],
   "source": [
    "%%xetmemo input=embed_entry,all_paragraphs output=par_embeddings\n",
    "par_embeddings = generate_openai_embeddings(client, all_paragraphs)\n",
    "par_embeddings = np.array(par_embeddings)"
   ]
  },
  {
   "cell_type": "code",
   "execution_count": 25,
   "id": "f93a90da",
   "metadata": {},
   "outputs": [
    {
     "name": "stdout",
     "output_type": "stream",
     "text": [
      "Loading from 877197d865d11dd8a0d7f8f600194670b0ece3e1a13532555d3b012f96525dbb.pickle\n"
     ]
    }
   ],
   "source": [
    "%%xetmemo input=embed_entry,all_qa output=qn_embeddings\n",
    "qn_embeddings = generate_openai_embeddings(client, [q[1] for q in all_qa])\n",
    "qn_embeddings = np.array(qn_embeddings)"
   ]
  },
  {
   "cell_type": "markdown",
   "id": "a578b14c",
   "metadata": {},
   "source": [
    "Got all the embeddings, lets use sklearn to compute a nearest neighbor model."
   ]
  },
  {
   "cell_type": "code",
   "execution_count": 26,
   "id": "df8ae062",
   "metadata": {},
   "outputs": [],
   "source": [
    "from sklearn.neighbors import NearestNeighbors"
   ]
  },
  {
   "cell_type": "code",
   "execution_count": 27,
   "id": "9e44f2c7",
   "metadata": {},
   "outputs": [],
   "source": [
    "par_embeddings_arr = par_embeddings\n",
    "qn_embeddings_arr = qn_embeddings"
   ]
  },
  {
   "cell_type": "code",
   "execution_count": 160,
   "id": "faac1647",
   "metadata": {},
   "outputs": [],
   "source": [
    "%%xetmemo input=par_embeddings_arr,qn_embeddings_arr output=knn\n",
    "nbrs = NearestNeighbors(n_neighbors=20, algorithm='ball_tree', n_jobs=-1)\n",
    "nbrs.fit(par_embeddings_arr)\n",
    "knn = nbrs.kneighbors(qn_embeddings_arr)"
   ]
  },
  {
   "cell_type": "markdown",
   "id": "12fda158",
   "metadata": {},
   "source": [
    "With the results we can now evaluate the average recall at N. i.e. if I return the N nearest paragraphs, how often is the correct paragraph in the set."
   ]
  },
  {
   "cell_type": "code",
   "execution_count": 161,
   "id": "8fa7e9df",
   "metadata": {},
   "outputs": [],
   "source": [
    "ground_truth = np.array([i[0] for i in all_qa])\n",
    "_, nearest_paragraphs = knn\n",
    "p_at = []\n",
    "p_at.append((nearest_paragraphs[:,0] == truth).sum())\n",
    "for i in range(1,20):\n",
    "    p = (nearest_paragraphs[:,i] == truth).sum()\n",
    "    p_at.append(p_at[i-1] + p)"
   ]
  },
  {
   "cell_type": "code",
   "execution_count": 162,
   "id": "8f1bcc7f",
   "metadata": {},
   "outputs": [
    {
     "name": "stdout",
     "output_type": "stream",
     "text": [
      "[0.62889163 0.73474159 0.78287511 0.81176213 0.83140024 0.84563642\n",
      " 0.85764965 0.86718651 0.87441978 0.88065099 0.88605291 0.8910517\n",
      " 0.89540549 0.89957499 0.90331832 0.90650879 0.90953801 0.91235991\n",
      " 0.91493993 0.91742781]\n"
     ]
    }
   ],
   "source": [
    "openai_embedding_recall_at_n = np.array(p_at) / len(nearest_paragraphs)\n",
    "print(openai_embedding_recall_at_n)"
   ]
  },
  {
   "cell_type": "code",
   "execution_count": 169,
   "id": "6a5c2ab0",
   "metadata": {},
   "outputs": [
    {
     "data": {
      "image/png": "[encoded data removed]",
      "text/plain": [
       "<Figure size 640x480 with 1 Axes>"
      ]
     },
     "metadata": {},
     "output_type": "display_data"
    }
   ],
   "source": [
    "plt.plot(openai_embedding_recall_at_n, label=\"Vector Embedding Only\")\n",
    "plt.legend()\n",
    "plt.show()"
   ]
  },
  {
   "cell_type": "markdown",
   "id": "8138d7c8",
   "metadata": {},
   "source": [
    "This means that if I only look at the top-1 paragraph, I will find the paragraph with the answer ~ 63% of the time. and this increases to 88% with the top 10 documents, and 91.7% for the top 20 documents. This seems pretty good!"
   ]
  },
  {
   "cell_type": "markdown",
   "id": "2ce4c925",
   "metadata": {},
   "source": [
    "# \"Classical\" Methods\n",
    "How about if I use an old \"classical\" method that pretty much only works with simple word frequencies. BM25. This is basically tf-idf with some additional normalization tricks and see how it performs! BM25 requires us to first tokenize the documents, and here we just use the Spacy library."
   ]
  },
  {
   "cell_type": "code",
   "execution_count": 51,
   "id": "c30d9512",
   "metadata": {},
   "outputs": [
    {
     "name": "stdout",
     "output_type": "stream",
     "text": [
      "Collecting en-core-web-sm==3.7.1\n",
      "  Downloading https://github.com/explosion/spacy-models/releases/download/en_core_web_sm-3.7.1/en_core_web_sm-3.7.1-py3-none-any.whl (12.8 MB)\n",
      "\u001b[2K     \u001b[38;2;114;156;31m━━━━━━━━━━━━━━━━━━━━━━━━━━━━━━━━━━━━━━━━\u001b[0m \u001b[32m12.8/12.8 MB\u001b[0m \u001b[31m11.9 MB/s\u001b[0m eta \u001b[36m0:00:00\u001b[0mm eta \u001b[36m0:00:01\u001b[0m0:01\u001b[0m:01\u001b[0m\n",
      "\u001b[?25hRequirement already satisfied: spacy<3.8.0,>=3.7.2 in /Users/ylow/anaconda3/envs/py311/lib/python3.11/site-packages (from en-core-web-sm==3.7.1) (3.7.2)\n",
      "Requirement already satisfied: spacy-legacy<3.1.0,>=3.0.11 in /Users/ylow/anaconda3/envs/py311/lib/python3.11/site-packages (from spacy<3.8.0,>=3.7.2->en-core-web-sm==3.7.1) (3.0.12)\n",
      "Requirement already satisfied: spacy-loggers<2.0.0,>=1.0.0 in /Users/ylow/anaconda3/envs/py311/lib/python3.11/site-packages (from spacy<3.8.0,>=3.7.2->en-core-web-sm==3.7.1) (1.0.5)\n",
      "Requirement already satisfied: murmurhash<1.1.0,>=0.28.0 in /Users/ylow/anaconda3/envs/py311/lib/python3.11/site-packages (from spacy<3.8.0,>=3.7.2->en-core-web-sm==3.7.1) (1.0.10)\n",
      "Requirement already satisfied: cymem<2.1.0,>=2.0.2 in /Users/ylow/anaconda3/envs/py311/lib/python3.11/site-packages (from spacy<3.8.0,>=3.7.2->en-core-web-sm==3.7.1) (2.0.8)\n",
      "Requirement already satisfied: preshed<3.1.0,>=3.0.2 in /Users/ylow/anaconda3/envs/py311/lib/python3.11/site-packages (from spacy<3.8.0,>=3.7.2->en-core-web-sm==3.7.1) (3.0.9)\n",
      "Requirement already satisfied: thinc<8.3.0,>=8.1.8 in /Users/ylow/anaconda3/envs/py311/lib/python3.11/site-packages (from spacy<3.8.0,>=3.7.2->en-core-web-sm==3.7.1) (8.2.1)\n",
      "Requirement already satisfied: wasabi<1.2.0,>=0.9.1 in /Users/ylow/anaconda3/envs/py311/lib/python3.11/site-packages (from spacy<3.8.0,>=3.7.2->en-core-web-sm==3.7.1) (1.1.2)\n",
      "Requirement already satisfied: srsly<3.0.0,>=2.4.3 in /Users/ylow/anaconda3/envs/py311/lib/python3.11/site-packages (from spacy<3.8.0,>=3.7.2->en-core-web-sm==3.7.1) (2.4.8)\n",
      "Requirement already satisfied: catalogue<2.1.0,>=2.0.6 in /Users/ylow/anaconda3/envs/py311/lib/python3.11/site-packages (from spacy<3.8.0,>=3.7.2->en-core-web-sm==3.7.1) (2.0.10)\n",
      "Requirement already satisfied: weasel<0.4.0,>=0.1.0 in /Users/ylow/anaconda3/envs/py311/lib/python3.11/site-packages (from spacy<3.8.0,>=3.7.2->en-core-web-sm==3.7.1) (0.3.4)\n",
      "Requirement already satisfied: typer<0.10.0,>=0.3.0 in /Users/ylow/anaconda3/envs/py311/lib/python3.11/site-packages (from spacy<3.8.0,>=3.7.2->en-core-web-sm==3.7.1) (0.9.0)\n",
      "Requirement already satisfied: smart-open<7.0.0,>=5.2.1 in /Users/ylow/anaconda3/envs/py311/lib/python3.11/site-packages (from spacy<3.8.0,>=3.7.2->en-core-web-sm==3.7.1) (6.4.0)\n",
      "Requirement already satisfied: tqdm<5.0.0,>=4.38.0 in /Users/ylow/anaconda3/envs/py311/lib/python3.11/site-packages (from spacy<3.8.0,>=3.7.2->en-core-web-sm==3.7.1) (4.65.0)\n",
      "Requirement already satisfied: requests<3.0.0,>=2.13.0 in /Users/ylow/anaconda3/envs/py311/lib/python3.11/site-packages (from spacy<3.8.0,>=3.7.2->en-core-web-sm==3.7.1) (2.28.2)\n",
      "Requirement already satisfied: pydantic!=1.8,!=1.8.1,<3.0.0,>=1.7.4 in /Users/ylow/anaconda3/envs/py311/lib/python3.11/site-packages (from spacy<3.8.0,>=3.7.2->en-core-web-sm==3.7.1) (2.5.2)\n",
      "Requirement already satisfied: jinja2 in /Users/ylow/anaconda3/envs/py311/lib/python3.11/site-packages (from spacy<3.8.0,>=3.7.2->en-core-web-sm==3.7.1) (3.1.2)\n",
      "Requirement already satisfied: setuptools in /Users/ylow/anaconda3/envs/py311/lib/python3.11/site-packages (from spacy<3.8.0,>=3.7.2->en-core-web-sm==3.7.1) (67.6.1)\n",
      "Requirement already satisfied: packaging>=20.0 in /Users/ylow/anaconda3/envs/py311/lib/python3.11/site-packages (from spacy<3.8.0,>=3.7.2->en-core-web-sm==3.7.1) (23.0)\n",
      "Requirement already satisfied: langcodes<4.0.0,>=3.2.0 in /Users/ylow/anaconda3/envs/py311/lib/python3.11/site-packages (from spacy<3.8.0,>=3.7.2->en-core-web-sm==3.7.1) (3.3.0)\n",
      "Requirement already satisfied: numpy>=1.19.0 in /Users/ylow/anaconda3/envs/py311/lib/python3.11/site-packages (from spacy<3.8.0,>=3.7.2->en-core-web-sm==3.7.1) (1.25.1)\n",
      "Requirement already satisfied: annotated-types>=0.4.0 in /Users/ylow/anaconda3/envs/py311/lib/python3.11/site-packages (from pydantic!=1.8,!=1.8.1,<3.0.0,>=1.7.4->spacy<3.8.0,>=3.7.2->en-core-web-sm==3.7.1) (0.6.0)\n",
      "Requirement already satisfied: pydantic-core==2.14.5 in /Users/ylow/anaconda3/envs/py311/lib/python3.11/site-packages (from pydantic!=1.8,!=1.8.1,<3.0.0,>=1.7.4->spacy<3.8.0,>=3.7.2->en-core-web-sm==3.7.1) (2.14.5)\n",
      "Requirement already satisfied: typing-extensions>=4.6.1 in /Users/ylow/anaconda3/envs/py311/lib/python3.11/site-packages (from pydantic!=1.8,!=1.8.1,<3.0.0,>=1.7.4->spacy<3.8.0,>=3.7.2->en-core-web-sm==3.7.1) (4.8.0)\n",
      "Requirement already satisfied: charset-normalizer<4,>=2 in /Users/ylow/anaconda3/envs/py311/lib/python3.11/site-packages (from requests<3.0.0,>=2.13.0->spacy<3.8.0,>=3.7.2->en-core-web-sm==3.7.1) (3.1.0)\n",
      "Requirement already satisfied: idna<4,>=2.5 in /Users/ylow/anaconda3/envs/py311/lib/python3.11/site-packages (from requests<3.0.0,>=2.13.0->spacy<3.8.0,>=3.7.2->en-core-web-sm==3.7.1) (3.4)\n",
      "Requirement already satisfied: urllib3<1.27,>=1.21.1 in /Users/ylow/anaconda3/envs/py311/lib/python3.11/site-packages (from requests<3.0.0,>=2.13.0->spacy<3.8.0,>=3.7.2->en-core-web-sm==3.7.1) (1.26.15)\n",
      "Requirement already satisfied: certifi>=2017.4.17 in /Users/ylow/anaconda3/envs/py311/lib/python3.11/site-packages (from requests<3.0.0,>=2.13.0->spacy<3.8.0,>=3.7.2->en-core-web-sm==3.7.1) (2023.7.22)\n",
      "Requirement already satisfied: blis<0.8.0,>=0.7.8 in /Users/ylow/anaconda3/envs/py311/lib/python3.11/site-packages (from thinc<8.3.0,>=8.1.8->spacy<3.8.0,>=3.7.2->en-core-web-sm==3.7.1) (0.7.11)\n",
      "Requirement already satisfied: confection<1.0.0,>=0.0.1 in /Users/ylow/anaconda3/envs/py311/lib/python3.11/site-packages (from thinc<8.3.0,>=8.1.8->spacy<3.8.0,>=3.7.2->en-core-web-sm==3.7.1) (0.1.4)\n",
      "Requirement already satisfied: click<9.0.0,>=7.1.1 in /Users/ylow/anaconda3/envs/py311/lib/python3.11/site-packages (from typer<0.10.0,>=0.3.0->spacy<3.8.0,>=3.7.2->en-core-web-sm==3.7.1) (8.1.6)\n",
      "Requirement already satisfied: cloudpathlib<0.17.0,>=0.7.0 in /Users/ylow/anaconda3/envs/py311/lib/python3.11/site-packages (from weasel<0.4.0,>=0.1.0->spacy<3.8.0,>=3.7.2->en-core-web-sm==3.7.1) (0.16.0)\n",
      "Requirement already satisfied: MarkupSafe>=2.0 in /Users/ylow/anaconda3/envs/py311/lib/python3.11/site-packages (from jinja2->spacy<3.8.0,>=3.7.2->en-core-web-sm==3.7.1) (2.1.2)\n",
      "Installing collected packages: en-core-web-sm\n",
      "Successfully installed en-core-web-sm-3.7.1\n",
      "\u001b[38;5;2m✔ Download and installation successful\u001b[0m\n",
      "You can now load the package via spacy.load('en_core_web_sm')\n"
     ]
    }
   ],
   "source": [
    "!python -m spacy download en_core_web_sm"
   ]
  },
  {
   "cell_type": "code",
   "execution_count": 47,
   "id": "45b2f88b",
   "metadata": {},
   "outputs": [],
   "source": [
    "from rank_bm25 import BM25Okapi\n",
    "import concurrent\n",
    "import bm25_helpers"
   ]
  },
  {
   "cell_type": "code",
   "execution_count": 55,
   "id": "a15f1c24",
   "metadata": {},
   "outputs": [],
   "source": [
    "%%xetmemo input=all_paragraphs output=tokenized_corpus\n",
    "tokenized_corpus = [bm25_helpers.tokenize(par) for par in all_paragraphs]"
   ]
  },
  {
   "cell_type": "code",
   "execution_count": 206,
   "id": "30c3c593",
   "metadata": {},
   "outputs": [],
   "source": [
    "# We do a little bit more normalization post-tokenization by lower-casing all words and dropping punctuation.\n",
    "tokenized_corpus = [[word.lower() for word in doc if word.isalpha()] for doc in tokenized_corpus]\n",
    "k = 50"
   ]
  },
  {
   "cell_type": "code",
   "execution_count": 207,
   "id": "8562ba4e",
   "metadata": {},
   "outputs": [
    {
     "name": "stdout",
     "output_type": "stream",
     "text": [
      "Loading from 13874af01dcac59b9b8ce9a31aa3a55f77b8b193df520e672084250e96b4f062.pickle\n"
     ]
    }
   ],
   "source": [
    "%%xetmemo input=tokenized_corpus,k output=bm25_nearest_paragraphs\n",
    "bm25 = BM25Okapi(tokenized_corpus)\n",
    "bm25_nearest_paragraphs = []\n",
    "futures = []\n",
    "nworkers = 8\n",
    "with concurrent.futures.ProcessPoolExecutor(max_workers=nworkers) as executor:\n",
    "    for s in range(nworkers):\n",
    "        start = (s * len(all_qa)) // nworkers\n",
    "        end = ((s + 1) * len(all_qa)) // nworkers\n",
    "        if s == nworkers - 1:\n",
    "            end = len(all_qa)\n",
    "        futures.append(executor.submit(bm25_helpers.get_bm25_top_k_batch, \n",
    "                                       bm25, \n",
    "                                       [qa[1].lower() for qa in all_qa[start:end]], \n",
    "                                       k))\n",
    "\n",
    "    for future in futures:\n",
    "        bm25_nearest_paragraphs.extend(future.result())\n",
    "        print(len(bm25_nearest_paragraphs))\n"
   ]
  },
  {
   "cell_type": "code",
   "execution_count": 208,
   "id": "baebadf1",
   "metadata": {},
   "outputs": [],
   "source": [
    "bm25_nearest_paragraphs = np.array(bm25_nearest_paragraphs)\n",
    "bm25_p_at = []\n",
    "bm25_p_at.append((bm25_nearest_paragraphs[:,0] == truth).sum())\n",
    "for i in range(1,20):\n",
    "    p = (bm25_nearest_paragraphs[:,i] == truth).sum()\n",
    "    bm25_p_at.append(bm25_p_at[i-1] + p)"
   ]
  },
  {
   "cell_type": "code",
   "execution_count": 209,
   "id": "392d84f6",
   "metadata": {},
   "outputs": [
    {
     "data": {
      "text/plain": [
       "array([0.6451089 , 0.73759805, 0.77884383, 0.80413725, 0.82129899,\n",
       "       0.83368079, 0.84342498, 0.85174094, 0.85895118, 0.86510176,\n",
       "       0.87072252, 0.87481139, 0.87929188, 0.88286244, 0.88632934,\n",
       "       0.88946223, 0.89205377, 0.89440343, 0.89706407, 0.89927552])"
      ]
     },
     "execution_count": 209,
     "metadata": {},
     "output_type": "execute_result"
    }
   ],
   "source": [
    "bm25_embedding_recall_at_n = np.array(bm25_p_at) / len(nearest_paragraphs)\n",
    "bm25_embedding_recall_at_n"
   ]
  },
  {
   "cell_type": "code",
   "execution_count": 210,
   "id": "0abe4be0",
   "metadata": {},
   "outputs": [
    {
     "data": {
      "image/png": "[encoded data removed]",
      "text/plain": [
       "<Figure size 640x480 with 1 Axes>"
      ]
     },
     "metadata": {},
     "output_type": "display_data"
    }
   ],
   "source": [
    "plt.plot(openai_embedding_recall_at_n, label=\"Vector Embedding Only\")\n",
    "plt.plot(bm25_embedding_recall_at_n, label=\"BM25 Only\")\n",
    "plt.legend()\n",
    "plt.show()"
   ]
  },
  {
   "cell_type": "markdown",
   "id": "511d77de",
   "metadata": {},
   "source": [
    "BM25 as a simpler model does not seem to perform better (though interestingly it appears better at top 1). That said, it is not much worse. In fact, if we were to consider how we might want to evaluate RAG in practice: to begin with the end metric in mind. If we say we are targetting a retrieval accuracy of 85%. Then if we were to use a vector database, I would need to fetch 7 documents. If I were to use BM25 only, I would need to fetch 8 documents. The real practical difference here is insignificant, considering the cost of maintaining a vector database as well as an embedding service."
   ]
  },
  {
   "cell_type": "markdown",
   "id": "6fd5ea9f",
   "metadata": {},
   "source": [
    "# Reranking\n",
    "If we return to how Information Retrieval is classically implemented to support IR on billions of documents. The standard solutions are to begin with very efficient, low precision, high recall algorithms that can quickly sift through billions of documents and reduce it to a smaller subset of ~1000 docs. After which more expensive algorithms which are more precise are then used to rerank and reduce the document set to find a small set of documents which are truly relevant. \n",
    "\n",
    "We can use the same principle here. BM25 is a generally inexpensive method that can be efficiently implemented with reverse index solutions to rapidly sift down to a moderately sized dataset. After which, vector embeddings are the higher precision approach which we can use to rerank the dataset. \n",
    "\n",
    "Here, we simply rerank the top-50 results from BM25 using nearest neighbors from the vector embeddings:"
   ]
  },
  {
   "cell_type": "code",
   "execution_count": 211,
   "id": "fd5e3f69",
   "metadata": {},
   "outputs": [],
   "source": [
    "bm25_nearest_paragraphs_reranked = []\n",
    "for i in range(bm25_nearest_paragraphs.shape[0]):\n",
    "    paragraphs = bm25_nearest_paragraphs[i,:]\n",
    "    qn_vec = qn_embeddings[i,:]\n",
    "    par_vecs = par_embeddings[paragraphs,:]\n",
    "    distances = np.sum((par_vecs - qn_vec)**2,axis=1)\n",
    "    bm25_nearest_paragraphs_reranked.append(paragraphs[np.argsort(distances)])"
   ]
  },
  {
   "cell_type": "code",
   "execution_count": 212,
   "id": "94a057c1",
   "metadata": {},
   "outputs": [],
   "source": [
    "bm25_nearest_paragraphs_reranked = np.array(bm25_nearest_paragraphs_reranked)"
   ]
  },
  {
   "cell_type": "code",
   "execution_count": 213,
   "id": "be71233f",
   "metadata": {},
   "outputs": [
    {
     "data": {
      "text/plain": [
       "array([0.6549222 , 0.76444639, 0.81156633, 0.83842619, 0.85589892,\n",
       "       0.86877599, 0.87823222, 0.88602988, 0.89193859, 0.89709863,\n",
       "       0.90141786, 0.90485021, 0.9077988 , 0.91051704, 0.91310858,\n",
       "       0.91506663, 0.9168404 , 0.91849898, 0.91996176, 0.9212057 ])"
      ]
     },
     "execution_count": 213,
     "metadata": {},
     "output_type": "execute_result"
    }
   ],
   "source": [
    "bm25_p_at_reranked = []\n",
    "bm25_p_at_reranked.append((bm25_nearest_paragraphs_reranked[:,0] == truth).sum())\n",
    "for i in range(1,20):\n",
    "    p = (bm25_nearest_paragraphs_reranked[:,i] == truth).sum()\n",
    "    bm25_p_at_reranked.append(bm25_p_at_reranked[i-1] + p)\n",
    "bm25_embedding_reranked_recall_at_n = np.array(bm25_p_at_reranked) / len(nearest_paragraphs)\n",
    "bm25_embedding_reranked_recall_at_n"
   ]
  },
  {
   "cell_type": "code",
   "execution_count": 214,
   "id": "87fd2ffb",
   "metadata": {},
   "outputs": [
    {
     "data": {
      "image/png": "[encoded data removed]",
      "text/plain": [
       "<Figure size 640x480 with 1 Axes>"
      ]
     },
     "metadata": {},
     "output_type": "display_data"
    }
   ],
   "source": [
    "plt.plot(openai_embedding_recall_at_n, label=\"Vector Embedding Only\")\n",
    "plt.plot(bm25_embedding_recall_at_n, label=\"BM25 Only\")\n",
    "plt.plot(bm25_embedding_reranked_recall_at_n, label=\"BM25 @50 Reranked with Vector Embeddings\")\n",
    "plt.legend()\n",
    "plt.show()"
   ]
  },
  {
   "cell_type": "markdown",
   "id": "5b6d7796",
   "metadata": {},
   "source": [
    "And this simply cleanly outperform everything. Even with if you have vector embeddings, all you really need is a vector retrieval service to be able to do efficient k-NN reranking on a small set of vectors. No vector database necessary."
   ]
  }
 ],
 "metadata": {
  "kernelspec": {
   "display_name": "Python 3 (ipykernel)",
   "language": "python",
   "name": "python3"
  },
  "language_info": {
   "codemirror_mode": {
    "name": "ipython",
    "version": 3
   },
   "file_extension": ".py",
   "mimetype": "text/x-python",
   "name": "python",
   "nbconvert_exporter": "python",
   "pygments_lexer": "ipython3",
   "version": "3.11.3"
  }
 },
 "nbformat": 4,
 "nbformat_minor": 5
}
