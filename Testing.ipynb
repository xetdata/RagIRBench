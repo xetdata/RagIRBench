{
 "cells": [
  {
   "cell_type": "code",
   "execution_count": 1,
   "id": "4fab475b",
   "metadata": {},
   "outputs": [],
   "source": [
    "%reload_ext xmemo_kernel_extension"
   ]
  },
  {
   "cell_type": "code",
   "execution_count": 2,
   "id": "dca4c56d",
   "metadata": {},
   "outputs": [],
   "source": [
    "import json\n",
    "import pandas as pd\n",
    "import pickle\n",
    "import openai\n",
    "import functools\n",
    "import numpy as np\n",
    "import concurrent.futures"
   ]
  },
  {
   "cell_type": "code",
   "execution_count": 3,
   "id": "9cf8dc94",
   "metadata": {},
   "outputs": [
    {
     "name": "stdout",
     "output_type": "stream",
     "text": [
      "Materializing 1 file(s)...\n",
      "Done\n"
     ]
    }
   ],
   "source": [
    "!git xet materialize data/squad2.json"
   ]
  },
  {
   "cell_type": "code",
   "execution_count": 4,
   "id": "30ccdbdb",
   "metadata": {},
   "outputs": [],
   "source": [
    "d = pd.read_json('data/squad2.json')['data']\n",
    "all_paragraphs = [paragraph['context'] for ent in d for paragraph in ent['paragraphs']]"
   ]
  },
  {
   "cell_type": "code",
   "execution_count": 5,
   "id": "d66332bf",
   "metadata": {},
   "outputs": [
    {
     "name": "stdout",
     "output_type": "stream",
     "text": [
      "/Users/ylow/xetrepos/RagIRBench2/xmemo/e06196685b0c2069ecd0b9336662b29b395d8b8fc7c1b9eb2117f1c1f2804e7a.pickle\n",
      "b\"\\x80\\x04\\x95-\\x00\\x01\\x00\\x00\\x00\\x00\\x00]\\x94(K\\x00\\x8c(When did Beyonce start becoming popular?\\x94\\x8c\\x11in the late 1990s\\x94\\x87\\x94K\\x00\\x8c:What areas did Beyonce compete in when she was growing up?\\x94\\x8c\\x13singing and dancing\\x94\\x87\\x94K\\x00\\x8c@When did Beyonce leave Destiny's Child and become a solo singer?\\x94\\x8c\\x042003\\x94\\x87\\x94K\\x00\\x8c-In what city and state did Beyonce  grow up? \\x94\\x8c\\x0eHouston, Texas\\x94\\x87\\x94K\\x00\\x8c*In which decade did Beyonce become famous?\\x94\\x8c\\n\"\n"
     ]
    }
   ],
   "source": [
    "%%xmemo input=all_paragraphs output=all_qa\n",
    "\n",
    "# Ok. list comprehension is still possible but it gets a little obnoxious.\n",
    "all_qa = []\n",
    "paragraph_id = 0\n",
    "for ent in d:\n",
    "    for paragraph in ent['paragraphs']:\n",
    "        for qa in paragraph['qas']:\n",
    "            if len(qa['answers']) > 0 and qa['is_impossible'] == False:\n",
    "                all_qa.append((paragraph_id, qa['question'], qa['answers'][0]['text']))\n",
    "        paragraph_id += 1"
   ]
  },
  {
   "cell_type": "code",
   "execution_count": null,
   "id": "54af514f",
   "metadata": {},
   "outputs": [],
   "source": [
    "all_qa"
   ]
  },
  {
   "cell_type": "code",
   "execution_count": null,
   "id": "5a1fca57",
   "metadata": {},
   "outputs": [],
   "source": [
    "!git xet materialize data/openai_paragraphs_embeddings.npy \n",
    "!git xet materialize data/openai_qn_embeddings.npy"
   ]
  },
  {
   "cell_type": "code",
   "execution_count": null,
   "id": "9cb8d081",
   "metadata": {},
   "outputs": [],
   "source": [
    "from sklearn.neighbors import NearestNeighbors\n",
    "par_embeddings_arr = np.load('data/openai_paragraphs_embeddings.npy')\n",
    "qn_embeddings_arr = np.load('data/openai_qn_embeddings.npy')"
   ]
  },
  {
   "cell_type": "code",
   "execution_count": null,
   "id": "d4672669",
   "metadata": {},
   "outputs": [],
   "source": [
    "%%xmemo input=par_embeddings_arr,qn_embeddings_arr output=knn\n",
    "nbrs = NearestNeighbors(n_neighbors=10, algorithm='ball_tree', n_jobs=-1)\n",
    "nbrs.fit(par_embeddings_arr)\n",
    "knn = nbrs.kneighbors(qn_embeddings_arr)"
   ]
  },
  {
   "cell_type": "code",
   "execution_count": null,
   "id": "5bc5abaf",
   "metadata": {},
   "outputs": [],
   "source": [
    "knn"
   ]
  },
  {
   "cell_type": "code",
   "execution_count": null,
   "id": "5974e622",
   "metadata": {},
   "outputs": [],
   "source": []
  }
 ],
 "metadata": {
  "kernelspec": {
   "display_name": "Python 3 (ipykernel)",
   "language": "python",
   "name": "python3"
  },
  "language_info": {
   "codemirror_mode": {
    "name": "ipython",
    "version": 3
   },
   "file_extension": ".py",
   "mimetype": "text/x-python",
   "name": "python",
   "nbconvert_exporter": "python",
   "pygments_lexer": "ipython3",
   "version": "3.11.3"
  }
 },
 "nbformat": 4,
 "nbformat_minor": 5
}
